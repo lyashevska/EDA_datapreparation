{
 "cells": [
  {
   "cell_type": "code",
   "execution_count": null,
   "id": "4b238f9f",
   "metadata": {},
   "outputs": [],
   "source": [
    "import pandas as pd\n",
    "import numpy as np\n",
    "import matplotlib.pyplot as plt\n",
    "import seaborn as sns\n",
    "from datetime import datetime"
   ]
  },
  {
   "cell_type": "code",
   "execution_count": null,
   "id": "6e0023e7",
   "metadata": {},
   "outputs": [],
   "source": [
    "df1 = pd.read_csv('ICES_bottlelowresctd\\\\bottle_lowres_ctd\\\\bottle_lowres_temp.csv')\n",
    "df2 = pd.read_csv('ICES_Expendabledatac\\\\xbt_data\\\\xbt_data_surfaceonly.csv')\n",
    "df3 = pd.read_csv('ICES_high_resolution\\\\high_res_ctd\\\\high_res_data.csv')\n",
    "df4 = pd.read_csv('ICES_OceanSurfacedat\\\\Surface_data\\\\oceansurfacedat_alter.csv')"
   ]
  },
  {
   "cell_type": "code",
   "execution_count": null,
   "id": "31946411",
   "metadata": {},
   "outputs": [],
   "source": [
    "ices_merged_data = pd.concat([df1, df2, df3, df4], ignore_index=True)"
   ]
  },
  {
   "cell_type": "code",
   "execution_count": null,
   "id": "e76cdf56",
   "metadata": {},
   "outputs": [],
   "source": [
    "ices_merged_data.to_csv('ices_merged_data.csv',index=None)"
   ]
  },
  {
   "cell_type": "code",
   "execution_count": null,
   "id": "d0e7d553",
   "metadata": {},
   "outputs": [],
   "source": [
    "df=pd.read_csv('ices_merged_data.csv')"
   ]
  },
  {
   "cell_type": "code",
   "execution_count": null,
   "id": "2578ed18",
   "metadata": {},
   "outputs": [],
   "source": [
    "df.shape"
   ]
  },
  {
   "cell_type": "code",
   "execution_count": null,
   "id": "f933ecaf",
   "metadata": {},
   "outputs": [],
   "source": [
    "df.head()"
   ]
  },
  {
   "cell_type": "code",
   "execution_count": null,
   "id": "76ae6261",
   "metadata": {},
   "outputs": [],
   "source": [
    "df.describe()"
   ]
  },
  {
   "cell_type": "code",
   "execution_count": null,
   "id": "bd78881a",
   "metadata": {},
   "outputs": [],
   "source": [
    "df.info()"
   ]
  },
  {
   "cell_type": "code",
   "execution_count": null,
   "id": "e6dab59f",
   "metadata": {},
   "outputs": [],
   "source": [
    "#Removing all the blank or null rows\n",
    "blank=ices_merged_data['Temperature [degC]'].isnull()\n",
    "ices_merged_data=ices_merged_data.drop(ices_merged_data[blank].index)"
   ]
  },
  {
   "cell_type": "code",
   "execution_count": null,
   "id": "9d8cb723",
   "metadata": {},
   "outputs": [],
   "source": [
    "ices_merged_data.shape"
   ]
  },
  {
   "cell_type": "code",
   "execution_count": null,
   "id": "e795974c",
   "metadata": {},
   "outputs": [],
   "source": [
    "ices_merged_data.to_csv('ices_merged_eda.csv',index=None)"
   ]
  },
  {
   "cell_type": "code",
   "execution_count": null,
   "id": "a2bb6872",
   "metadata": {},
   "outputs": [],
   "source": [
    "df=pd.read_csv('ices_merged_eda.csv')"
   ]
  },
  {
   "cell_type": "code",
   "execution_count": null,
   "id": "9c39952c",
   "metadata": {},
   "outputs": [],
   "source": [
    "df.shape"
   ]
  },
  {
   "cell_type": "code",
   "execution_count": null,
   "id": "69942ccc",
   "metadata": {},
   "outputs": [],
   "source": [
    "df.info()"
   ]
  },
  {
   "cell_type": "code",
   "execution_count": null,
   "id": "0a68ab4a",
   "metadata": {},
   "outputs": [],
   "source": [
    "# Identify duplicates based on all columns (date, lon, lat, temperature)\n",
    "duplicates = df[df.duplicated(keep=False)]\n",
    "\n",
    "# Print duplicate rows\n",
    "if not duplicates.empty:\n",
    "    print(\"Duplicate rows found:\")\n",
    "    print(duplicates)\n",
    "else:\n",
    "    print(\"No duplicate rows found.\")"
   ]
  },
  {
   "cell_type": "code",
   "execution_count": null,
   "id": "2ef6ecc2",
   "metadata": {},
   "outputs": [],
   "source": [
    "df.shape"
   ]
  },
  {
   "cell_type": "markdown",
   "id": "f906c788",
   "metadata": {},
   "source": [
    "### Removal of duplicates"
   ]
  },
  {
   "cell_type": "code",
   "execution_count": null,
   "id": "e72b3f59",
   "metadata": {},
   "outputs": [],
   "source": [
    "# Remove duplicates based on all columns (date, lon, lat, temperature)\n",
    "df_no_duplicates = df.drop_duplicates(keep='first')\n",
    "\n",
    "# Save the DataFrame without duplicates to a new CSV file\n",
    "df_no_duplicates.to_csv('ices_merged_eda.csv',index=None)"
   ]
  },
  {
   "cell_type": "code",
   "execution_count": null,
   "id": "61b5684c",
   "metadata": {},
   "outputs": [],
   "source": [
    "df=pd.read_csv('ices_merged_eda.csv')"
   ]
  },
  {
   "cell_type": "code",
   "execution_count": null,
   "id": "8073f969",
   "metadata": {},
   "outputs": [],
   "source": [
    "df.shape"
   ]
  },
  {
   "cell_type": "code",
   "execution_count": null,
   "id": "90359b35",
   "metadata": {},
   "outputs": [],
   "source": [
    "#Check for outliers in the temperature column using a boxplot\n",
    "plt.figure(figsize=[18,10])\n",
    "sns.set(style=\"darkgrid\")\n",
    "plt.rcParams.update({'font.size': 20, 'font.weight': 'bold'})\n",
    "sns.boxplot(x=df['Temperature [degC]'],width=0.5,linewidth=2,color='darkgoldenrod')\n",
    "plt.xlabel('Temperature', fontsize=14, fontweight='bold')\n",
    "plt.title('Boxplot of Temperature', fontsize=14, fontweight='bold')\n",
    "plt.show()"
   ]
  },
  {
   "cell_type": "code",
   "execution_count": null,
   "id": "3fe1f582",
   "metadata": {},
   "outputs": [],
   "source": [
    "#Plot the distribution of the temperature column using a histogram\n",
    "plt.figure(figsize=[18,10])\n",
    "plt.rcParams.update({'font.size': 20, 'font.weight': 'bold'})\n",
    "plt.hist(df['Temperature [degC]'],bins=5, color='darkgoldenrod')\n",
    "plt.xlabel('Temperature', fontsize=14, fontweight='bold')\n",
    "plt.ylabel('Count', fontsize=14, fontweight='bold')\n",
    "plt.show()"
   ]
  },
  {
   "cell_type": "code",
   "execution_count": null,
   "id": "2725a2fb",
   "metadata": {},
   "outputs": [],
   "source": [
    "# Convert datetime column to datetime format\n",
    "df['Date'] = pd.to_datetime(df['Date'])"
   ]
  },
  {
   "cell_type": "code",
   "execution_count": null,
   "id": "b6602100",
   "metadata": {},
   "outputs": [],
   "source": [
    "df.info()"
   ]
  },
  {
   "cell_type": "code",
   "execution_count": null,
   "id": "e3b4ccf3",
   "metadata": {},
   "outputs": [],
   "source": [
    "#Data points after merging all the data (ICES)\n",
    "import cartopy.crs as ccrs\n",
    "import cartopy as cart\n",
    "import cartopy.feature as cfeature\n",
    "%matplotlib inline\n",
    "\n",
    "\n",
    "fig = plt.figure(figsize=[18,10])\n",
    "ax = plt.axes(projection=ccrs.PlateCarree())\n",
    "\n",
    "plt.scatter(df['Longitude [degrees_east]'], df['Latitude [degrees_north]'], s=10, color='darkgoldenrod', marker='*',\n",
    "             transform=ccrs.PlateCarree())\n",
    "\n",
    "ax.add_feature(cfeature.LAND,zorder=100, edgecolor='k')\n",
    "ax.add_feature(cfeature.OCEAN)\n",
    "ax.add_feature(cfeature.COASTLINE)\n",
    "ax.add_feature(cfeature.BORDERS, linestyle=':')\n",
    "\n",
    "plt.ylabel ('Latitude')\n",
    "plt.xlabel ('Longitude')\n",
    "\n",
    "plt.show()"
   ]
  },
  {
   "cell_type": "markdown",
   "id": "aa61aa97",
   "metadata": {},
   "source": [
    "### Spatial plot (each plot shows the daily data points(YYYY/MM)"
   ]
  },
  {
   "cell_type": "code",
   "execution_count": null,
   "id": "0b56b3e8",
   "metadata": {},
   "outputs": [],
   "source": [
    "\n",
    "import pandas as pd\n",
    "import matplotlib.pyplot as plt\n",
    "import cartopy.crs as ccrs\n",
    "import cartopy.feature as cfeature\n",
    "\n",
    "df=pd.read_csv('ices_merged_eda.csv')\n",
    "\n",
    "# Convert the Date column to pandas datetime format\n",
    "df['Date'] = pd.to_datetime(df['Date'])\n",
    "\n",
    "# Extract year and month from the Date column\n",
    "df['Year'] = df['Date'].dt.year\n",
    "df['Month'] = df['Date'].dt.month\n",
    "\n",
    "# Group the data by year and month\n",
    "grouped_data = df.groupby(['Year', 'Month'])\n",
    "\n",
    "# Define the bounding box\n",
    "bounding_box = [-14, -5, 49, 56]\n",
    "\n",
    "# Define the figure size (width, height) in inches\n",
    "figure_size = (15, 8)\n",
    "\n",
    "# Iterate over each group to create subplots\n",
    "for (year, month), group in grouped_data:\n",
    "    # Create a subplot with a map using Cartopy and set the figure size\n",
    "    fig = plt.figure(figsize=figure_size)\n",
    "    ax = fig.add_subplot(1, 1, 1, projection=ccrs.PlateCarree())\n",
    "    ax.add_feature(cfeature.LAND)\n",
    "    ax.add_feature(cfeature.OCEAN)\n",
    "    ax.add_feature(cfeature.COASTLINE)\n",
    "    ax.add_feature(cfeature.BORDERS, linestyle=':')\n",
    "\n",
    "    # Set the extent of the map based on the bounding box\n",
    "    ax.set_extent(bounding_box)\n",
    "\n",
    "    # Create a scatter plot for each group\n",
    "    scatter = ax.scatter(\n",
    "        group['Longitude [degrees_east]'],\n",
    "        group['Latitude [degrees_north]'],\n",
    "        c=group['Temperature [degC]'],\n",
    "        cmap='coolwarm',\n",
    "        transform=ccrs.PlateCarree()\n",
    "    )\n",
    "\n",
    "    # Annotate each data point\n",
    "    #for index, row in group.iterrows():\n",
    "        #ax.annotate(\n",
    "            #text=row['Date'].strftime('%Y-%m-%d'),\n",
    "           # xy=(row['Longitude [degrees_east]'], row['Latitude [degrees_north]']),\n",
    "            #xytext=(5, 0),\n",
    "            #textcoords='offset points',\n",
    "            #transform=ccrs.PlateCarree()\n",
    "        #)\n",
    "\n",
    "    # Set title for the subplot\n",
    "    ax.set_title(f\"Temperature Data Points for {year}-{month:02d}\",fontsize=15,fontweight='bold')\n",
    "\n",
    "    # Save the subplot as an image file\n",
    "    plt.savefig(f\"mergedTemperature{year}_{month:02d}.png\")\n",
    "\n",
    "    # Show the current subplot\n",
    "    plt.show()"
   ]
  },
  {
   "cell_type": "markdown",
   "id": "1b5693cb",
   "metadata": {},
   "source": [
    "### (X,Y) plots for each YYYY/MM, X:Temperature, Y:Day of Month"
   ]
  },
  {
   "cell_type": "code",
   "execution_count": null,
   "id": "b368bdfa",
   "metadata": {},
   "outputs": [],
   "source": [
    "import pandas as pd\n",
    "import matplotlib.pyplot as plt\n",
    "import numpy as np\n",
    "\n",
    "# Convert the Date column to pandas datetime format\n",
    "#df['Date'] = pd.to_datetime(df['Date'])\n",
    "\n",
    "# Extract year and month from the Date column\n",
    "df['Year'] = df['Date'].dt.year\n",
    "df['Month'] = df['Date'].dt.month\n",
    "\n",
    "# Determine the global minimum and maximum temperature values\n",
    "global_min_temp = df['Temperature [degC]'].min()\n",
    "global_max_temp = df['Temperature [degC]'].max()\n",
    "\n",
    "# Group the data by year\n",
    "year_grouped_data = df.groupby('Year')\n",
    "\n",
    "# Define the figure size (width, height) in inches\n",
    "figure_size = (20, 12)\n",
    "\n",
    "# Iterate over each year to create a single plot with monthly subplots\n",
    "for year, year_group in year_grouped_data:\n",
    "    # Create a grid of subplots (3 rows x 4 columns) for each year\n",
    "    fig, axes = plt.subplots(nrows=3, ncols=4, figsize=figure_size, sharex='col', sharey='row')\n",
    "    axes = axes.flatten()\n",
    "\n",
    "    # Group the year data by month\n",
    "    month_grouped_data = year_group.groupby('Month')\n",
    "\n",
    "    # Iterate over each month\n",
    "    for month in range(1, 13):\n",
    "        # Get the corresponding axis for the current month\n",
    "        ax = axes[month - 1]\n",
    "\n",
    "        # Check if there is data for the current month\n",
    "        if month in month_grouped_data.groups:\n",
    "            group = month_grouped_data.get_group(month)\n",
    "            # Sort the group data by Date\n",
    "            group = group.sort_values('Date')\n",
    "\n",
    "            # Create a scatter plot for each group\n",
    "            ax.scatter(group['Date'].dt.day, group['Temperature [degC]'], color='darkgoldenrod', marker='o')\n",
    "\n",
    "        # Set title (bold) and labels for the subplot\n",
    "        ax.set_title(f\"{year}-{month:02d}\",fontsize=15, fontweight='bold')\n",
    "        ax.set_xlabel('Day of the Month', fontsize=15, fontweight='bold')\n",
    "        ax.set_ylabel('Temperature [degC]', fontsize=15, fontweight='bold')\n",
    "\n",
    "        # Generate a complete range of dates for the current year and month\n",
    "        date_range = pd.date_range(start=f\"{year}-{month:02d}-01\", end=f\"{year}-{month:02d}-{pd.Timestamp(year, month, 1).days_in_month}\")\n",
    "\n",
    "        # Create an array of uniformly spaced tick values\n",
    "        tick_values = np.linspace(1, pd.Timestamp(year, month, 1).days_in_month, num=8, dtype=int)\n",
    "\n",
    "        # Set xticks and xtick labels with a 45-degree rotation and right horizontal alignment\n",
    "        ax.set_xticks(tick_values)\n",
    "        ax.set_xticklabels(date_range[tick_values - 1].strftime('%Y-%m-%d'), rotation=45, ha='right', fontsize=15)\n",
    "\n",
    "        # Set the y-axis limits based on the global minimum and maximum temperature values\n",
    "        ax.set_ylim(global_min_temp, global_max_temp)\n",
    "\n",
    "    # Adjust the space between subplots\n",
    "    plt.tight_layout()\n",
    "\n",
    "    # Save the single plot as an image file\n",
    "    #plt.savefig(f\"Temperature_{year}.png\")\n",
    "\n",
    "    # Show the single plot\n",
    "    plt.show()\n"
   ]
  },
  {
   "cell_type": "code",
   "execution_count": null,
   "id": "8c249598",
   "metadata": {},
   "outputs": [],
   "source": []
  }
 ],
 "metadata": {
  "hide_input": false,
  "kernelspec": {
   "display_name": "Python 3 (ipykernel)",
   "language": "python",
   "name": "python3"
  },
  "language_info": {
   "codemirror_mode": {
    "name": "ipython",
    "version": 3
   },
   "file_extension": ".py",
   "mimetype": "text/x-python",
   "name": "python",
   "nbconvert_exporter": "python",
   "pygments_lexer": "ipython3",
   "version": "3.9.7"
  }
 },
 "nbformat": 4,
 "nbformat_minor": 5
}
